{
 "cells": [
  {
   "cell_type": "markdown",
   "metadata": {},
   "source": [
    "# Imports"
   ]
  },
  {
   "cell_type": "code",
   "execution_count": 1,
   "metadata": {},
   "outputs": [],
   "source": [
    "import tensorflow as tf\n",
    "import pandas as pd\n",
    "import numpy as np\n",
    "import matplotlib.pyplot as plt\n",
    "%matplotlib inline"
   ]
  },
  {
   "cell_type": "markdown",
   "metadata": {},
   "source": [
    "# Data Expolration"
   ]
  },
  {
   "cell_type": "code",
   "execution_count": 2,
   "metadata": {},
   "outputs": [
    {
     "data": {
      "text/html": [
       "<div>\n",
       "<style scoped>\n",
       "    .dataframe tbody tr th:only-of-type {\n",
       "        vertical-align: middle;\n",
       "    }\n",
       "\n",
       "    .dataframe tbody tr th {\n",
       "        vertical-align: top;\n",
       "    }\n",
       "\n",
       "    .dataframe thead th {\n",
       "        text-align: right;\n",
       "    }\n",
       "</style>\n",
       "<table border=\"1\" class=\"dataframe\">\n",
       "  <thead>\n",
       "    <tr style=\"text-align: right;\">\n",
       "      <th></th>\n",
       "      <th>#</th>\n",
       "      <th>File_Name</th>\n",
       "      <th>Class</th>\n",
       "    </tr>\n",
       "  </thead>\n",
       "  <tbody>\n",
       "    <tr>\n",
       "      <th>0</th>\n",
       "      <td>1</td>\n",
       "      <td>AIN (1).JPG</td>\n",
       "      <td>ain</td>\n",
       "    </tr>\n",
       "    <tr>\n",
       "      <th>1</th>\n",
       "      <td>2</td>\n",
       "      <td>AIN (10).JPG</td>\n",
       "      <td>ain</td>\n",
       "    </tr>\n",
       "    <tr>\n",
       "      <th>2</th>\n",
       "      <td>3</td>\n",
       "      <td>AIN (100).jpg</td>\n",
       "      <td>ain</td>\n",
       "    </tr>\n",
       "    <tr>\n",
       "      <th>3</th>\n",
       "      <td>4</td>\n",
       "      <td>AIN (1000).JPG</td>\n",
       "      <td>ain</td>\n",
       "    </tr>\n",
       "    <tr>\n",
       "      <th>4</th>\n",
       "      <td>5</td>\n",
       "      <td>AIN (1001).JPG</td>\n",
       "      <td>ain</td>\n",
       "    </tr>\n",
       "  </tbody>\n",
       "</table>\n",
       "</div>"
      ],
      "text/plain": [
       "   #       File_Name Class\n",
       "0  1     AIN (1).JPG   ain\n",
       "1  2    AIN (10).JPG   ain\n",
       "2  3   AIN (100).jpg   ain\n",
       "3  4  AIN (1000).JPG   ain\n",
       "4  5  AIN (1001).JPG   ain"
      ]
     },
     "execution_count": 2,
     "metadata": {},
     "output_type": "execute_result"
    }
   ],
   "source": [
    "df = pd.read_csv('ArSL_Data_Labels.csv')\n",
    "df.head()"
   ]
  },
  {
   "cell_type": "code",
   "execution_count": 3,
   "metadata": {},
   "outputs": [
    {
     "data": {
      "text/plain": [
       "#            54049\n",
       "File_Name    54049\n",
       "Class        54049\n",
       "dtype: int64"
      ]
     },
     "execution_count": 3,
     "metadata": {},
     "output_type": "execute_result"
    }
   ],
   "source": [
    "df.count()"
   ]
  },
  {
   "cell_type": "code",
   "execution_count": 4,
   "metadata": {},
   "outputs": [
    {
     "data": {
      "text/plain": [
       "['ain',\n",
       " 'al',\n",
       " 'aleff',\n",
       " 'bb',\n",
       " 'dal',\n",
       " 'dha',\n",
       " 'dhad',\n",
       " 'fa',\n",
       " 'gaaf',\n",
       " 'ghain',\n",
       " 'ha',\n",
       " 'haa',\n",
       " 'jeem',\n",
       " 'kaaf',\n",
       " 'khaa',\n",
       " 'la',\n",
       " 'laam',\n",
       " 'meem',\n",
       " 'nun',\n",
       " 'ra',\n",
       " 'saad',\n",
       " 'seen',\n",
       " 'sheen',\n",
       " 'ta',\n",
       " 'taa',\n",
       " 'thaa',\n",
       " 'thal',\n",
       " 'toot',\n",
       " 'waw',\n",
       " 'ya',\n",
       " 'yaa',\n",
       " 'zay']"
      ]
     },
     "execution_count": 4,
     "metadata": {},
     "output_type": "execute_result"
    }
   ],
   "source": [
    "classes = df.Class.unique().tolist()\n",
    "classes"
   ]
  },
  {
   "cell_type": "markdown",
   "metadata": {},
   "source": [
    "# Load the data"
   ]
  },
  {
   "cell_type": "code",
   "execution_count": 7,
   "metadata": {},
   "outputs": [
    {
     "name": "stdout",
     "output_type": "stream",
     "text": [
      "Found 54049 images belonging to 32 classes.\n"
     ]
    }
   ],
   "source": [
    "from tensorflow.keras.preprocessing.image import ImageDataGenerator\n",
    "\n",
    "datagen = ImageDataGenerator(rescale=1.0/255)\n",
    "data_generator = datagen.flow_from_directory(\n",
    "        'ArASL_Database_54K_Final',\n",
    "        target_size=(64, 64),\n",
    "        batch_size=32,\n",
    "        classes = classes)"
   ]
  },
  {
   "cell_type": "markdown",
   "metadata": {},
   "source": [
    "# Buid a simple model"
   ]
  },
  {
   "cell_type": "code",
   "execution_count": 14,
   "metadata": {},
   "outputs": [
    {
     "name": "stdout",
     "output_type": "stream",
     "text": [
      "Model: \"sequential_2\"\n",
      "_________________________________________________________________\n",
      "Layer (type)                 Output Shape              Param #   \n",
      "=================================================================\n",
      "conv2d_6 (Conv2D)            (None, 62, 62, 32)        896       \n",
      "_________________________________________________________________\n",
      "max_pooling2d_4 (MaxPooling2 (None, 31, 31, 32)        0         \n",
      "_________________________________________________________________\n",
      "conv2d_7 (Conv2D)            (None, 29, 29, 64)        18496     \n",
      "_________________________________________________________________\n",
      "max_pooling2d_5 (MaxPooling2 (None, 14, 14, 64)        0         \n",
      "_________________________________________________________________\n",
      "conv2d_8 (Conv2D)            (None, 12, 12, 64)        36928     \n",
      "_________________________________________________________________\n",
      "flatten_2 (Flatten)          (None, 9216)              0         \n",
      "_________________________________________________________________\n",
      "dense_4 (Dense)              (None, 64)                589888    \n",
      "_________________________________________________________________\n",
      "dense_5 (Dense)              (None, 32)                2080      \n",
      "=================================================================\n",
      "Total params: 648,288\n",
      "Trainable params: 648,288\n",
      "Non-trainable params: 0\n",
      "_________________________________________________________________\n"
     ]
    }
   ],
   "source": [
    "from tensorflow.keras import models\n",
    "from tensorflow.keras import layers\n",
    "\n",
    "\n",
    "# build a 6-layer\n",
    "model = models.Sequential()\n",
    "model.add(layers.Conv2D(32, (3, 3), activation='relu', input_shape=(64, 64, 3)))\n",
    "model.add(layers.MaxPooling2D((2, 2)))\n",
    "\n",
    "model.add(layers.Conv2D(64, (3, 3), activation='relu'))\n",
    "model.add(layers.MaxPooling2D((2, 2)))\n",
    "\n",
    "model.add(layers.Conv2D(64, (3, 3), activation='relu'))\n",
    "\n",
    "model.add(layers.Flatten())\n",
    "model.add(layers.Dense(64, activation='relu'))\n",
    "model.add(layers.Dense(32, activation='softmax'))\n",
    "\n",
    "model.summary()"
   ]
  },
  {
   "cell_type": "markdown",
   "metadata": {},
   "source": [
    "# Train the model"
   ]
  },
  {
   "cell_type": "code",
   "execution_count": 15,
   "metadata": {},
   "outputs": [
    {
     "name": "stdout",
     "output_type": "stream",
     "text": [
      "Epoch 1/20\n",
      "2000/2000 [==============================] - 593s 297ms/step - loss: 0.8418 - acc: 0.7641\n",
      "Epoch 2/20\n",
      "2000/2000 [==============================] - 259s 129ms/step - loss: 0.1720 - acc: 0.9563\n",
      "Epoch 3/20\n",
      "2000/2000 [==============================] - 256s 128ms/step - loss: 0.1040 - acc: 0.9730\n",
      "Epoch 4/20\n",
      "2000/2000 [==============================] - 256s 128ms/step - loss: 0.0749 - acc: 0.9797\n",
      "Epoch 5/20\n",
      "2000/2000 [==============================] - 254s 127ms/step - loss: 0.0526 - acc: 0.9857\n",
      "Epoch 6/20\n",
      "2000/2000 [==============================] - 263s 132ms/step - loss: 0.0434 - acc: 0.9887\n",
      "Epoch 7/20\n",
      "2000/2000 [==============================] - 265s 133ms/step - loss: 0.0384 - acc: 0.9904\n",
      "Epoch 8/20\n",
      "2000/2000 [==============================] - 274s 137ms/step - loss: 0.0325 - acc: 0.9921\n",
      "Epoch 9/20\n",
      "2000/2000 [==============================] - 297s 149ms/step - loss: 0.0309 - acc: 0.9927\n",
      "Epoch 10/20\n",
      "2000/2000 [==============================] - 293s 146ms/step - loss: 0.0282 - acc: 0.9931\n",
      "Epoch 11/20\n",
      "2000/2000 [==============================] - 277s 139ms/step - loss: 0.0261 - acc: 0.9936\n",
      "Epoch 12/20\n",
      "2000/2000 [==============================] - 260s 130ms/step - loss: 0.0249 - acc: 0.9945\n",
      "Epoch 13/20\n",
      "2000/2000 [==============================] - 278s 139ms/step - loss: 0.0241 - acc: 0.9947\n",
      "Epoch 14/20\n",
      "2000/2000 [==============================] - 272s 136ms/step - loss: 0.0267 - acc: 0.9947\n",
      "Epoch 15/20\n",
      "2000/2000 [==============================] - 263s 131ms/step - loss: 0.0277 - acc: 0.9944\n",
      "Epoch 16/20\n",
      "2000/2000 [==============================] - 258s 129ms/step - loss: 0.0295 - acc: 0.9944\n",
      "Epoch 17/20\n",
      "2000/2000 [==============================] - 306s 153ms/step - loss: 0.0264 - acc: 0.9953\n",
      "Epoch 18/20\n",
      "2000/2000 [==============================] - 294s 147ms/step - loss: 0.0267 - acc: 0.9950\n",
      "Epoch 19/20\n",
      "2000/2000 [==============================] - 282s 141ms/step - loss: 0.0244 - acc: 0.9950\n",
      "Epoch 20/20\n",
      "2000/2000 [==============================] - 285s 143ms/step - loss: 0.0256 - acc: 0.9955\n"
     ]
    }
   ],
   "source": [
    "model.compile(optimizer='rmsprop', loss='categorical_crossentropy', metrics=['accuracy'])\n",
    "\n",
    "history = model.fit_generator(\n",
    "    data_generator,\n",
    "    steps_per_epoch=2000,\n",
    "    epochs=20)"
   ]
  },
  {
   "cell_type": "markdown",
   "metadata": {},
   "source": [
    "# Save the model"
   ]
  },
  {
   "cell_type": "code",
   "execution_count": 16,
   "metadata": {},
   "outputs": [],
   "source": [
    "model.save('asl_model.h5')"
   ]
  },
  {
   "cell_type": "markdown",
   "metadata": {},
   "source": [
    "# Plot results"
   ]
  },
  {
   "cell_type": "code",
   "execution_count": 18,
   "metadata": {},
   "outputs": [
    {
     "data": {
      "image/png": "[encoded data removed]",
      "text/plain": [
       "<Figure size 432x288 with 1 Axes>"
      ]
     },
     "metadata": {
      "needs_background": "light"
     },
     "output_type": "display_data"
    }
   ],
   "source": [
    "acc = history.history['acc']\n",
    "loss = history.history['loss']\n",
    "\n",
    "epochs = range(1, len(acc) + 1)\n",
    "\n",
    "plt.plot(epochs, acc, 'bo', label='Training acc')\n",
    "plt.plot(epochs, loss, 'b', label='Training loss')\n",
    "plt.title('Training acc and loss')\n",
    "plt.legend()\n",
    "\n",
    "plt.show()"
   ]
  },
  {
   "cell_type": "code",
   "execution_count": 19,
   "metadata": {},
   "outputs": [],
   "source": [
    "# Modifications\n",
    "# 1. use SeparableConv2D layers instead of Conv2D\n",
    "# 2. desgin a suitable data pipeline\n",
    "# 3. preprocess the images: rgb2gray\n",
    "# 4. create a train / dev / test split\n",
    "# 5. use data generators more effecient "
   ]
  },
  {
   "cell_type": "code",
   "execution_count": null,
   "metadata": {},
   "outputs": [],
   "source": []
  }
 ],
 "metadata": {
  "kernelspec": {
   "display_name": "Python 3",
   "language": "python",
   "name": "python3"
  },
  "language_info": {
   "codemirror_mode": {
    "name": "ipython",
    "version": 3
   },
   "file_extension": ".py",
   "mimetype": "text/x-python",
   "name": "python",
   "nbconvert_exporter": "python",
   "pygments_lexer": "ipython3",
   "version": "3.7.3"
  }
 },
 "nbformat": 4,
 "nbformat_minor": 4
}
